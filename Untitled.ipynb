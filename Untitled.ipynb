{
 "cells": [
  {
   "cell_type": "code",
   "execution_count": 1,
   "metadata": {},
   "outputs": [],
   "source": [
    "import re"
   ]
  },
  {
   "cell_type": "code",
   "execution_count": 158,
   "metadata": {},
   "outputs": [],
   "source": [
    "T_KEYWORDS_INIT= \"<keyword init>\"\n",
    "T_OPLOGICO= \"<opLogic %s>\"\n",
    "T_OPMAT= \"<opMat %s>\"\n",
    "T_INT = \"<int %s>\"\n",
    "T_STRING = \"<str %s>\"\n",
    "T_IDENTIF = \"<id %s>\"\n",
    "T_COMMENT = \"<comentario %s>\"\n",
    "T_LPARENT = \"<LParent %s>\"\n",
    "T_RPARENT = \"<RParent %s>\""
   ]
  },
  {
   "cell_type": "code",
   "execution_count": null,
   "metadata": {},
   "outputs": [],
   "source": []
  },
  {
   "cell_type": "code",
   "execution_count": 159,
   "metadata": {},
   "outputs": [],
   "source": [
    "def afd_string(token):\n",
    "    if token[0]=='\"' and token[-1]=='\"':\n",
    "        if '\"' not in token[1:-1]:\n",
    "            return True\n",
    "    return False"
   ]
  },
  {
   "cell_type": "code",
   "execution_count": 160,
   "metadata": {},
   "outputs": [],
   "source": [
    "def afd_int(token):\n",
    "    return re.match(\"[0-9.][0-9.]*\", token)"
   ]
  },
  {
   "cell_type": "code",
   "execution_count": 161,
   "metadata": {},
   "outputs": [],
   "source": [
    "def afd_identificador(token):\n",
    "    return re.match(\"[a-zA-Z][a-zA-Z_0-9]*\", token)"
   ]
  },
  {
   "cell_type": "code",
   "execution_count": 162,
   "metadata": {},
   "outputs": [],
   "source": [
    "def afd_comentario(t):\n",
    "    return re.match('\\\"([^\\\\\\n]|(\\\\.))*?\\\"', token)"
   ]
  },
  {
   "cell_type": "code",
   "execution_count": 163,
   "metadata": {},
   "outputs": [],
   "source": [
    "def afd_lParent(t):\n",
    "    return re.match(\"[(]\", token)"
   ]
  },
  {
   "cell_type": "code",
   "execution_count": 164,
   "metadata": {},
   "outputs": [],
   "source": [
    "def afd_rParent(t):\n",
    "    return re.match('[)]', token)"
   ]
  },
  {
   "cell_type": "code",
   "execution_count": 165,
   "metadata": {},
   "outputs": [],
   "source": [
    "def afd_operatorMatematico(t):\n",
    "    return re.match('[-+*/]', token)"
   ]
  },
  {
   "cell_type": "code",
   "execution_count": 166,
   "metadata": {},
   "outputs": [],
   "source": [
    "def afd_operatorLogico(t):\n",
    "    return re.match('[==]||[!=]||[<]||[>]||[<=]||[>=]', token)"
   ]
  },
  {
   "cell_type": "code",
   "execution_count": null,
   "metadata": {},
   "outputs": [],
   "source": []
  },
  {
   "cell_type": "code",
   "execution_count": 167,
   "metadata": {},
   "outputs": [],
   "source": [
    "def afd_principal(token):\n",
    "    if token==\"init\":\n",
    "        return T_KEYWORDS_INIT\n",
    "    \n",
    "    elif afd_comentario(token):\n",
    "        return T_COMMENT % token\n",
    "    \n",
    "    elif afd_lParent(token):\n",
    "        return T_LPARENT % token\n",
    "    \n",
    "    elif afd_rParent(token):\n",
    "        return T_RPARENT % token\n",
    "    \n",
    "    elif afd_operatorMatematico(token):\n",
    "        return T_OPMAT % token\n",
    "    \n",
    "    elif afd_operatorLogico(token):\n",
    "        return T_OPLOGICO % token\n",
    "    \n",
    "    elif afd_string(token):\n",
    "        return T_STRING % token\n",
    "    \n",
    "    elif afd_int(token):\n",
    "        return T_INT % token\n",
    "    \n",
    "    elif afd_identificador(token):\n",
    "        return T_IDENTIF % token\n",
    "    \n",
    "    \n",
    "    else:\n",
    "        return None\n"
   ]
  },
  {
   "cell_type": "code",
   "execution_count": 169,
   "metadata": {},
   "outputs": [],
   "source": [
    "class NodeSemantica:\n",
    "    def __init__(self, data):\n",
    "        self.left = None\n",
    "        self.right = None\n",
    "        self.data = data\n",
    "\n",
    "    def insert(self, data):\n",
    "        if self.data:\n",
    "            if data < self.data:\n",
    "                if self.left is None:\n",
    "                    self.left = Node(data)\n",
    "                else:\n",
    "                    self.left.insert(data)\n",
    "            elif data > self.data:\n",
    "                if self.right is None:\n",
    "                    self.right = Node(data)\n",
    "                else:\n",
    "                    self.right.insert(data)\n",
    "        else:\n",
    "            self.data = data\n",
    "\n",
    "    def PrintTree(self):\n",
    "        if self.left:\n",
    "            self.left.PrintTree()\n",
    "        print( self.data),\n",
    "        if self.right:\n",
    "            self.right.PrintTree()\n"
   ]
  },
  {
   "cell_type": "code",
   "execution_count": 198,
   "metadata": {},
   "outputs": [],
   "source": [
    "def arvoreSintatica(tokens):\n",
    "    arvoreSemanticas = []\n",
    "    iter_obj = iter(tokens)\n",
    "    while True:\n",
    "        try:\n",
    "            element = next(iter_obj)\n",
    "            arvoreSemanticas.append(NodeSemantica(element))\n",
    "            \n",
    "            element = next(iter_obj)\n",
    "            arvoreSemanticas.append(NodeSemantica(element))\n",
    "\n",
    "        except StopIteration:\n",
    "            break\n",
    "\n",
    "    return arvoreSemanticas"
   ]
  },
  {
   "cell_type": "code",
   "execution_count": 200,
   "metadata": {},
   "outputs": [
    {
     "name": "stdout",
     "output_type": "stream",
     "text": [
      "<keyword init>\n",
      "None\n",
      "<opLogic a>\n",
      "None\n",
      "<keyword init>\n",
      "None\n",
      "<opLogic b>\n",
      "None\n",
      "<keyword init>\n",
      "None\n",
      "<opLogic c>\n",
      "None\n",
      "<opLogic a>\n",
      "None\n",
      "<opLogic =>\n",
      "None\n",
      "<opLogic 5>\n",
      "None\n",
      "<opLogic b>\n",
      "None\n",
      "<opLogic =>\n",
      "None\n",
      "<opLogic 3>\n",
      "None\n",
      "<opLogic c>\n",
      "None\n",
      "<opLogic =>\n",
      "None\n",
      "<comentario \"12\">\n",
      "None\n",
      "<opLogic result>\n",
      "None\n",
      "<opLogic =>\n",
      "None\n",
      "<opLogic a>\n",
      "None\n",
      "<opMat +>\n",
      "None\n",
      "<opLogic b>\n",
      "None\n",
      "<opLogic $>\n",
      "None\n",
      "<opLogic teste>\n",
      "None\n",
      "<opMat //teste>\n",
      "None\n",
      "<comentario \"\"\">\n",
      "None\n",
      "<opLogic teste>\n",
      "None\n",
      "<comentario \"\"\">\n",
      "None\n",
      "<opLogic funcao>\n",
      "None\n",
      "<opLogic teste()>\n",
      "None\n"
     ]
    }
   ],
   "source": [
    "arquivo = open('codigo.x','r')\n",
    "\n",
    "tokens=[]\n",
    "for l in arquivo.readlines():\n",
    "    l=l.replace(\"\\n\",\"\")\n",
    "    \n",
    "    for token in l.split():\n",
    "        tokens.append(afd_principal(token))\n",
    "\n",
    "\n",
    "arvores = arvoreSintatica(tokens)\n",
    "for arvore in arvores:\n",
    "    print(arvore.PrintTree())"
   ]
  },
  {
   "cell_type": "code",
   "execution_count": 201,
   "metadata": {},
   "outputs": [
    {
     "data": {
      "text/plain": [
       "'<keyword init>'"
      ]
     },
     "execution_count": 201,
     "metadata": {},
     "output_type": "execute_result"
    }
   ],
   "source": [
    "tokens[0]"
   ]
  },
  {
   "cell_type": "code",
   "execution_count": null,
   "metadata": {},
   "outputs": [],
   "source": []
  },
  {
   "cell_type": "code",
   "execution_count": null,
   "metadata": {},
   "outputs": [],
   "source": []
  }
 ],
 "metadata": {
  "kernelspec": {
   "display_name": "Python 3",
   "language": "python",
   "name": "python3"
  },
  "language_info": {
   "codemirror_mode": {
    "name": "ipython",
    "version": 3
   },
   "file_extension": ".py",
   "mimetype": "text/x-python",
   "name": "python",
   "nbconvert_exporter": "python",
   "pygments_lexer": "ipython3",
   "version": "3.6.8"
  }
 },
 "nbformat": 4,
 "nbformat_minor": 4
}
