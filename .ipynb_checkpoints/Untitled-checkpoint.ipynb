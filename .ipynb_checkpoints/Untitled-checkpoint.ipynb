{
 "cells": [
  {
   "cell_type": "code",
   "execution_count": 18,
   "metadata": {},
   "outputs": [],
   "source": [
    "import re"
   ]
  },
  {
   "cell_type": "code",
   "execution_count": 76,
   "metadata": {},
   "outputs": [],
   "source": [
    "T_KEYWORDS_INIT= \"<keyword init>\"\n",
    "T_OP= \"<op %s>\"\n",
    "T_INT = \"<int %s>\"\n",
    "T_STRING = \"<str %s>\"\n",
    "T_IDENTIF = \"<id %s>\"\n",
    "T_COMMENT = \"<comenatario %s>\""
   ]
  },
  {
   "cell_type": "code",
   "execution_count": 77,
   "metadata": {},
   "outputs": [],
   "source": [
    "def afd_string(token):\n",
    "    if token[0]=='\"' and token[-1]=='\"':\n",
    "        if '\"' not in token[1:-1]:\n",
    "            return True\n",
    "    return False"
   ]
  },
  {
   "cell_type": "code",
   "execution_count": 78,
   "metadata": {},
   "outputs": [],
   "source": [
    "def afd_int(token):\n",
    "    return re.match(\"[0-9.][0-9.]*\", token)"
   ]
  },
  {
   "cell_type": "code",
   "execution_count": 79,
   "metadata": {},
   "outputs": [],
   "source": [
    "def afd_identificador(token):\n",
    "    return re.match(\"[a-zA-Z][a-zA-Z_0-9]*\", token)"
   ]
  },
  {
   "cell_type": "code",
   "execution_count": 80,
   "metadata": {},
   "outputs": [],
   "source": [
    "def afd_comentario(t):\n",
    "    return re.match('\\\"([^\\\\\\n]|(\\\\.))*?\\\"', token)"
   ]
  },
  {
   "cell_type": "code",
   "execution_count": 81,
   "metadata": {},
   "outputs": [],
   "source": [
    "def afd_principal(token):\n",
    "    if token==\"init\":\n",
    "        return T_KEYWORDS_INIT\n",
    "    \n",
    "    elif afd_comentario(token):\n",
    "        return T_COMMENT % token\n",
    "    \n",
    "    elif token in ['=','+']:\n",
    "        return T_OP % token\n",
    "    \n",
    "    elif afd_string(token):\n",
    "        return T_STRING % token\n",
    "    \n",
    "    elif afd_int(token):\n",
    "        return T_INT % token\n",
    "    \n",
    "    elif afd_identificador(token):\n",
    "        return T_IDENTIF % token\n",
    "    \n",
    "    \n",
    "    else:\n",
    "        return None\n"
   ]
  },
  {
   "cell_type": "code",
   "execution_count": 82,
   "metadata": {},
   "outputs": [
    {
     "name": "stdout",
     "output_type": "stream",
     "text": [
      "['<keyword init>', '<id a>']\n",
      "['<keyword init>', '<id b>']\n",
      "['<keyword init>', '<id c>']\n",
      "[]\n",
      "['<id a>', '<op =>', '<int 5>']\n",
      "['<id b>', '<op =>', '<int 3>']\n",
      "['<id c>', '<op =>', '<str \"12\">']\n",
      "[]\n",
      "['<id result>', '<op =>', '<id a>', '<op +>', '<id b>']\n",
      "[]\n",
      "[None, '<id teste>']\n",
      "[]\n",
      "[None]\n",
      "[None, '<id teste>', None]\n"
     ]
    }
   ],
   "source": [
    "arquivo = open('codigo.x','r')\n",
    "\n",
    "for l in arquivo.readlines():\n",
    "    l=l.replace(\"\\n\",\"\")\n",
    "    #print(l)\n",
    "    \n",
    "    tokens=[]\n",
    "    for token in l.split():\n",
    "        tokens.append(afd_principal(token))\n",
    "    \n",
    "    print(tokens)"
   ]
  },
  {
   "cell_type": "code",
   "execution_count": null,
   "metadata": {},
   "outputs": [],
   "source": []
  },
  {
   "cell_type": "code",
   "execution_count": null,
   "metadata": {},
   "outputs": [],
   "source": []
  }
 ],
 "metadata": {
  "kernelspec": {
   "display_name": "Python 3",
   "language": "python",
   "name": "python3"
  },
  "language_info": {
   "codemirror_mode": {
    "name": "ipython",
    "version": 3
   },
   "file_extension": ".py",
   "mimetype": "text/x-python",
   "name": "python",
   "nbconvert_exporter": "python",
   "pygments_lexer": "ipython3",
   "version": "3.6.8"
  }
 },
 "nbformat": 4,
 "nbformat_minor": 4
}
